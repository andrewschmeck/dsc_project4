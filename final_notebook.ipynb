{
 "cells": [
  {
   "cell_type": "markdown",
   "metadata": {},
   "source": [
    "![](dogecoin.jpg \"Dogecoin\")"
   ]
  },
  {
   "cell_type": "markdown",
   "metadata": {},
   "source": [
    "![Dogecoin](images/dogecoin.jpeg)"
   ]
  },
  {
   "cell_type": "markdown",
   "metadata": {},
   "source": [
    "# Overview"
   ]
  },
  {
   "cell_type": "markdown",
   "metadata": {},
   "source": [
    "A hedgefund is seeking to profit from the volatility and inefficiences of the cryptocurrency market. They would like to focus on Dogecoin, a cryptocurrency with a $30B market cap. Their marketing team desires to better understand the sentiment around dogecoin, for understanding other owners and what words or phrases most reseonate with them. \n",
    "\n",
    "Dogecoin began as satire, using a meme of a Shiba Inu dog misspelled as \"doge.\" The makers, Billy Marcus and Jackson Palmer, created it in late 2013. Then launched a large campaing including sending the Jamaican Bobled team to the '14 olympics and sponsoring a Nascar. \n",
    "\n",
    "As a cryptocurrency, Dogecoin also relies on block-chain cryptography. All coin holder's carry a ledger. And miner's have to solve mathproblems to create new chains. They are rewarded with dogecoin. \n",
    "\n",
    "Dogecoin differs from many other cryptocurrency in that it has no lifetime cap on the number of coins that can be produced. This means it is highly inflationary--by design. This diminishes the coin as a store of value, but increases its use as an actual currency. "
   ]
  },
  {
   "cell_type": "markdown",
   "metadata": {},
   "source": [
    "# Business Understanding"
   ]
  },
  {
   "cell_type": "markdown",
   "metadata": {},
   "source": [
    "Market volatililty and the speculative nature of Dogecoin increase risk of owning asset. Since the price of other cryptocurrencies have proven susceptible to the sentiment of its buyers and sellers (citation), the hedfund seeks deeper comprehension of the sentiment of those very buyers and seller, in order to get a better grasp on the market, and possibly leverage that information for profits in the future. This project uses Twitter as a proxy for the buyers and sellers, and analyzes tweets containing the word \"dogecoin.\" "
   ]
  },
  {
   "cell_type": "markdown",
   "metadata": {},
   "source": [
    "# Data Understanding"
   ]
  },
  {
   "cell_type": "markdown",
   "metadata": {},
   "source": [
    "Twitter API, Tweets, Features, Target\n",
    "\n",
    "Twitter's API has limitations on retrieval. One can only pull tweets from the last 7days, in increments of 180 tweets every 15 minuts, with a cap of 2,600 at one time. Thus, it takes 3 and 1/2 hours to pull accumulate 2,500 tweets. \n",
    "\n",
    "Retweets will be excluded because the Hedgefund is trying to get a sense of dogecoin audience, not the retweets of one bot (which we discovered within our first few pulls)."
   ]
  },
  {
   "cell_type": "markdown",
   "metadata": {},
   "source": [
    "### Twitter API Request Code\n",
    "```\n",
    "# Authentication\n",
    "consumerKey = creds['API Key']\n",
    "consumerSecret = creds['API Key Secret']\n",
    "accessToken = creds['Access Token']\n",
    "accessTokenSecret = creds['Access Token Secret']\n",
    "auth = tweepy.OAuthHandler(consumerKey, consumerSecret)\n",
    "auth.set_access_token(accessToken, accessTokenSecret)\n",
    "api = tweepy.API(auth)\n",
    "\n",
    "#Pull tweets based on Keyword and Amount (noOfTweet)\n",
    "keyword = input('Please enter keyword or hastag to search: ')\n",
    "noOfTweet = int(input ('Please enter how many tweets to analyze: '))\n",
    "tweets = tweepy.Cursor(api.search_tweets, q=keyword+' -filter:retweets').items(noOfTweet)\n",
    "tweet_list = []\n",
    "tweet_date_list = []\n",
    "for tweet in tweets:\n",
    "    tweet_list.append(tweet.text)\n",
    "    tweet_date_list.append(tweet.created_at)\n",
    "\n",
    "tweet_list = pd.DataFrame(tweet_list)\n",
    "\n",
    "```"
   ]
  },
  {
   "cell_type": "markdown",
   "metadata": {},
   "source": [
    "### Imports"
   ]
  },
  {
   "cell_type": "code",
   "execution_count": 2,
   "metadata": {},
   "outputs": [],
   "source": [
    "from sklearn.cluster import KMeans\n",
    "from sklearn.metrics import silhouette_score\n",
    "from sklearn.decomposition import PCA\n",
    "from sklearn.feature_extraction.text import TfidfVectorizer\n",
    "from sklearn.preprocessing import StandardScaler\n",
    "from sklearn.naive_bayes import MultinomialNB\n",
    "from sklearn.tree import DecisionTreeClassifier\n",
    "from sklearn.model_selection import train_test_split\n",
    "\n",
    "from textblob import TextBlob\n",
    "import sys\n",
    "import tweepy\n",
    "import matplotlib.pyplot as plt\n",
    "import pandas as pd\n",
    "import numpy as np\n",
    "import os\n",
    "import nltk\n",
    "import pycountry\n",
    "import re\n",
    "import string\n",
    "import json\n",
    "\n",
    "# from wordcloud import WordCloud, STOPWORDS\n",
    "# from PIL import Image\n",
    "from nltk.sentiment.vader import SentimentIntensityAnalyzer\n",
    "from nltk.sentiment import SentimentAnalyzer\n",
    "from langdetect import detect\n",
    "from nltk.stem import SnowballStemmer\n",
    "from sklearn.feature_extraction.text import CountVectorizer\n",
    "from sklearn.metrics import accuracy_score"
   ]
  },
  {
   "cell_type": "markdown",
   "metadata": {},
   "source": [
    "### Concatenate Tweets\n",
    "Because Twitter's API has a limit, we had to pull tweets in batches. Below, we concatenate all these serparate pulls. "
   ]
  },
  {
   "cell_type": "code",
   "execution_count": 117,
   "metadata": {},
   "outputs": [],
   "source": [
    "df_1 = pd.DataFrame(pd.read_csv('data/doge_tweets_111621_1138',index_col=0)['text'])\n",
    "df_2 = pd.DataFrame(pd.read_csv('data/dogecoin2_11_16_21_1pm.csv',index_col=0)['text'])\n",
    "df_3 = pd.DataFrame(pd.read_csv('data/dogecoin_11_17_21_10am.csv', index_col=0)['text'])\n",
    "df_4 = pd.DataFrame(pd.read_csv('data/doge_tweets_111721_1454.csv',index_col=0)['text'])\n",
    "df_5 = pd.DataFrame(pd.read_csv('data/dogecoin_11_14_21_3pm.csv',index_col=0)['text'])\n",
    "df=pd.concat([df_1,df_2, df_3,df_4,df_5])\n",
    "df.drop_duplicates(inplace=True)"
   ]
  },
  {
   "cell_type": "markdown",
   "metadata": {},
   "source": [
    "## Write a function for vectorizing\n",
    "Note, this function removes stopwords and sorts the vectorized  "
   ]
  },
  {
   "cell_type": "markdown",
   "metadata": {},
   "source": [
    "removed stopwords"
   ]
  },
  {
   "cell_type": "code",
   "execution_count": 4,
   "metadata": {},
   "outputs": [],
   "source": [
    "def get_top_n_gram(corpus,ngram_range,n=None):\n",
    "    vec = CountVectorizer(ngram_range=ngram_range, stop_words = 'english',max_df=1.0, min_df=0.01).fit(corpus)\n",
    "    bag_of_words = vec.transform(corpus)\n",
    "    sum_words = bag_of_words.sum(axis=0) \n",
    "    words_freq = [(word, sum_words[0, idx]) for word, idx in vec.vocabulary_.items()]\n",
    "    words_freq =sorted(words_freq, key = lambda x: x[1], reverse=True)\n",
    "    return words_freq[:n], bag_of_words"
   ]
  },
  {
   "cell_type": "code",
   "execution_count": 5,
   "metadata": {},
   "outputs": [],
   "source": [
    "def get_top_n_gram_test(corpus, trained_corpus, ngram_range,n=None):\n",
    "    vec = CountVectorizer(ngram_range=ngram_range, stop_words = 'english',max_df=1.0, min_df=0.01).fit(trained_corpus)\n",
    "    bag_of_words = vec.transform(corpus)\n",
    "    sum_words = bag_of_words.sum(axis=0) \n",
    "    words_freq = [(word, sum_words[0, idx]) for word, idx in vec.vocabulary_.items()]\n",
    "    words_freq =sorted(words_freq, key = lambda x: x[1], reverse=True)\n",
    "    return words_freq[:n], bag_of_words"
   ]
  },
  {
   "cell_type": "markdown",
   "metadata": {},
   "source": [
    "## Clean Tweets\n",
    "We removed punctuation, in order to track similar words. Likewise, we made every word lower case."
   ]
  },
  {
   "cell_type": "code",
   "execution_count": 6,
   "metadata": {},
   "outputs": [],
   "source": [
    "# Remove RT\n",
    "remove_rt = lambda x: re.sub('RT @\\w+: ',\" \",x)\n",
    "# Remove punctuation\n",
    "rt = lambda x: re.sub(\"(@[A-Za-z0-9]+)|([^0-9A-Za-z \\t])|(\\w+://\\S+)\",\" \",x)\n",
    "# Remove Retweets\n",
    "df[\"clean_text\"] = df.text.map(remove_rt).map(rt)\n",
    "# Lower the case \n",
    "df[\"clean_text\"] = df.clean_text.str.lower()\n"
   ]
  },
  {
   "cell_type": "code",
   "execution_count": 28,
   "metadata": {},
   "outputs": [
    {
     "data": {
      "text/html": [
       "<div>\n",
       "<style scoped>\n",
       "    .dataframe tbody tr th:only-of-type {\n",
       "        vertical-align: middle;\n",
       "    }\n",
       "\n",
       "    .dataframe tbody tr th {\n",
       "        vertical-align: top;\n",
       "    }\n",
       "\n",
       "    .dataframe thead th {\n",
       "        text-align: right;\n",
       "    }\n",
       "</style>\n",
       "<table border=\"1\" class=\"dataframe\">\n",
       "  <thead>\n",
       "    <tr style=\"text-align: right;\">\n",
       "      <th></th>\n",
       "      <th>polarity</th>\n",
       "      <th>subjectivity</th>\n",
       "      <th>sentiment</th>\n",
       "    </tr>\n",
       "  </thead>\n",
       "  <tbody>\n",
       "    <tr>\n",
       "      <th>0</th>\n",
       "      <td>0.000000</td>\n",
       "      <td>0.000000</td>\n",
       "      <td>0.0</td>\n",
       "    </tr>\n",
       "    <tr>\n",
       "      <th>1</th>\n",
       "      <td>0.000000</td>\n",
       "      <td>0.000000</td>\n",
       "      <td>0.0</td>\n",
       "    </tr>\n",
       "    <tr>\n",
       "      <th>2</th>\n",
       "      <td>0.000000</td>\n",
       "      <td>0.350000</td>\n",
       "      <td>1.0</td>\n",
       "    </tr>\n",
       "    <tr>\n",
       "      <th>3</th>\n",
       "      <td>0.000000</td>\n",
       "      <td>0.000000</td>\n",
       "      <td>1.0</td>\n",
       "    </tr>\n",
       "    <tr>\n",
       "      <th>4</th>\n",
       "      <td>0.000000</td>\n",
       "      <td>0.000000</td>\n",
       "      <td>1.0</td>\n",
       "    </tr>\n",
       "    <tr>\n",
       "      <th>5</th>\n",
       "      <td>0.000000</td>\n",
       "      <td>0.000000</td>\n",
       "      <td>0.0</td>\n",
       "    </tr>\n",
       "    <tr>\n",
       "      <th>6</th>\n",
       "      <td>0.309028</td>\n",
       "      <td>0.729167</td>\n",
       "      <td>1.0</td>\n",
       "    </tr>\n",
       "    <tr>\n",
       "      <th>7</th>\n",
       "      <td>0.445455</td>\n",
       "      <td>0.351515</td>\n",
       "      <td>1.0</td>\n",
       "    </tr>\n",
       "    <tr>\n",
       "      <th>8</th>\n",
       "      <td>-0.400000</td>\n",
       "      <td>0.400000</td>\n",
       "      <td>0.0</td>\n",
       "    </tr>\n",
       "    <tr>\n",
       "      <th>9</th>\n",
       "      <td>0.000000</td>\n",
       "      <td>0.000000</td>\n",
       "      <td>0.0</td>\n",
       "    </tr>\n",
       "  </tbody>\n",
       "</table>\n",
       "</div>"
      ],
      "text/plain": [
       "   polarity  subjectivity  sentiment\n",
       "0  0.000000      0.000000        0.0\n",
       "1  0.000000      0.000000        0.0\n",
       "2  0.000000      0.350000        1.0\n",
       "3  0.000000      0.000000        1.0\n",
       "4  0.000000      0.000000        1.0\n",
       "5  0.000000      0.000000        0.0\n",
       "6  0.309028      0.729167        1.0\n",
       "7  0.445455      0.351515        1.0\n",
       "8 -0.400000      0.400000        0.0\n",
       "9  0.000000      0.000000        0.0"
      ]
     },
     "execution_count": 28,
     "metadata": {},
     "output_type": "execute_result"
    }
   ],
   "source": [
    "#Calculating Negative, Positive, Neutral and Compound values\n",
    "df_probs = pd.DataFrame()\n",
    "df_probs[['polarity', 'subjectivity']] = df['clean_text'].apply(lambda Text: pd.Series(TextBlob(Text).sentiment))\n",
    "for index, row in df['text'].iteritems():\n",
    "    score = SentimentIntensityAnalyzer().polarity_scores(row)\n",
    "    neg = score['neg']\n",
    "    neu = score['neu']\n",
    "    pos = score['pos']\n",
    "    comp = score['compound']\n",
    "    if neg > pos:\n",
    "        df_probs.loc[index, 'sentiment'] = 0\n",
    "    elif pos > neg:\n",
    "        df_probs.loc[index, 'sentiment'] = 1\n",
    "    else:\n",
    "        df_probs.loc[index, 'sentiment'] = 0\n",
    "df_probs.head(10)"
   ]
  },
  {
   "cell_type": "code",
   "execution_count": 55,
   "metadata": {},
   "outputs": [
    {
     "data": {
      "image/png": "[encoded data removed]",
      "text/plain": [
       "<Figure size 640x480 with 1 Axes>"
      ]
     },
     "metadata": {},
     "output_type": "display_data"
    }
   ],
   "source": [
    "def percentage(part,whole):\n",
    " return 100 * float(part)/float(whole)\n",
    "\n",
    "positive = format(percentage(df_probs[df_probs['sentiment'] == 1].shape[0],df_probs.shape[0]),'.1f')\n",
    "negative = format(percentage(df_probs[df_probs['sentiment'] == 0].shape[0],df_probs.shape[0]),'.1f')\n",
    "\n",
    "labels = ['Positive ['+str(positive)+'%]','Negative ['+str(negative)+'%]']\n",
    "\n",
    "sizes = [positive, negative]\n",
    "colors = ['yellowgreen', 'blue']\n",
    "patches, texts = plt.pie(sizes,colors=colors, startangle=90)\n",
    "plt.style.use('default')\n",
    "plt.legend(labels)\n",
    "plt.title(\"Sentiment Analysis Result for dogecoin\" )\n",
    "plt.axis('equal')\n",
    "plt.show()"
   ]
  },
  {
   "cell_type": "code",
   "execution_count": 29,
   "metadata": {},
   "outputs": [],
   "source": [
    "df.reset_index(drop=True, inplace=True)\n",
    "df_pos = df[['text']].copy(deep=True)\n",
    "df_probs.reset_index(drop=True, inplace=True)\n",
    "df_pos['sentiment'] = df_probs['sentiment'].copy(deep=True)\n",
    "df_pos = df_pos[df_pos['sentiment'] == 1]\n"
   ]
  },
  {
   "cell_type": "code",
   "execution_count": 30,
   "metadata": {},
   "outputs": [],
   "source": [
    "# Remove RT\n",
    "remove_rt = lambda x: re.sub('RT @\\w+: ',\" \",x)\n",
    "# Remove punctuation\n",
    "rt = lambda x: re.sub(\"(@[A-Za-z0-9]+)|([^0-9A-Za-z \\t])|(\\w+://\\S+)\",\" \",x)\n",
    "# Remove Retweets\n",
    "df_pos[\"clean_text\"] = df_pos.text.map(remove_rt).map(rt).copy(deep=True)\n",
    "# Lower the case \n",
    "df_pos[\"clean_text\"] = df_pos.clean_text.str.lower().copy(deep=True)\n"
   ]
  },
  {
   "cell_type": "code",
   "execution_count": 42,
   "metadata": {},
   "outputs": [
    {
     "name": "stdout",
     "output_type": "stream",
     "text": [
      "['new', 'crypto', 'earn', 'friend', 'current', 'alert', 'whale', 'price', 'bitcoin', 'pasive', 'income', 'day', 'like', 'update', 'btc', 'support', 'shiba', 'good', 'value', 'shib', 'just', 'worth', 'says', 'eth', 'swap', 'buy', 'usd', 'add', 'ethereum', 'ba', 'amp', 'elon', 'inu', 'minute', 'legacy', 'token', 'join', 'change', 'great', 'coins', 'best', 'nft', 'mdoge', 'love', 'empire', 'coin', 'cryptocurrency', 'free', 'miss', 'moon', 'future', 'want', 'community', 'huge', 'check', 'shibainu', 'important', 'addr', 'better', 'cash', 'time', 'game', 'hope', 'awesome', 'accept', 'ready', 'team', 'make', 'amazing', 'win', 'let', 'soon', 'big', 'tesla', 'smart', 'dogearmy', 'looking', 'going', 'social', 'bnb', 'lol', 'strong', 'litecoin', 'nice', 'happy', 'know', 'memecoin', 'floki', 'money', 'bwcdeals', 'yes', 'market', 'ad', 'solana', 'help', 'binance', 'thanks', 'musk', '2021', 'defi', '100', 'wow', 'dog', 'run', 'follow', 'coming', 'ada', 'world', 'tippingtuesday', 'devs']\n"
     ]
    }
   ],
   "source": [
    "positives, pos_vec = get_top_n_gram(df_pos['clean_text'], (1,1), 300)\n",
    "positives = [X[0] for X in positives]\n",
    "positives = [x for x in positives if x not in ['dogecoin','doge','twitter','socialmedia','pintrest','think','today','people','don','facebook','project','10','a6n4rywnuahiy9nncneozajbgc2opmkqmo','hour','tx','dogecoins']]\n",
    "print(positives)"
   ]
  },
  {
   "cell_type": "code",
   "execution_count": 43,
   "metadata": {},
   "outputs": [],
   "source": [
    "from nltk import sent_tokenize\n",
    "from nltk import word_tokenize\n",
    "\n",
    "def extract_features(text, top_100):\n",
    "    sia = SentimentIntensityAnalyzer()\n",
    "    features = dict()\n",
    "    wordcount = 0\n",
    "    compound_scores = list()\n",
    "    positive_scores = list()\n",
    "\n",
    "    for sentence in sent_tokenize(text):\n",
    "        for word in word_tokenize(sentence):\n",
    "            if word.lower() in top_100:\n",
    "                wordcount += 1\n",
    "        compound_scores.append(sia.polarity_scores(sentence)[\"compound\"])\n",
    "        positive_scores.append(sia.polarity_scores(sentence)[\"pos\"])\n",
    "\n",
    "    # Adding 1 to the final compound score to always have positive numbers\n",
    "    # since some classifiers you'll use later don't work with negative numbers.\n",
    "    features[\"wordcount\"] = wordcount\n",
    "\n",
    "    return features['wordcount']\n",
    "\n",
    "features = [\n",
    "    (extract_features(review, positives))\n",
    "    for review in df['clean_text']]"
   ]
  },
  {
   "cell_type": "code",
   "execution_count": 44,
   "metadata": {},
   "outputs": [],
   "source": [
    "df_feat = pd.concat([df['clean_text'], pd.DataFrame(features,columns=['positive_word_count'])], axis=1)"
   ]
  },
  {
   "cell_type": "code",
   "execution_count": 45,
   "metadata": {},
   "outputs": [
    {
     "data": {
      "text/html": [
       "<div>\n",
       "<style scoped>\n",
       "    .dataframe tbody tr th:only-of-type {\n",
       "        vertical-align: middle;\n",
       "    }\n",
       "\n",
       "    .dataframe tbody tr th {\n",
       "        vertical-align: top;\n",
       "    }\n",
       "\n",
       "    .dataframe thead th {\n",
       "        text-align: right;\n",
       "    }\n",
       "</style>\n",
       "<table border=\"1\" class=\"dataframe\">\n",
       "  <thead>\n",
       "    <tr style=\"text-align: right;\">\n",
       "      <th></th>\n",
       "      <th>clean_text</th>\n",
       "      <th>positive_word_count</th>\n",
       "    </tr>\n",
       "  </thead>\n",
       "  <tbody>\n",
       "    <tr>\n",
       "      <th>2253</th>\n",
       "      <td>businessgrowth  tumblr  twitter  facebook  in...</td>\n",
       "      <td>0</td>\n",
       "    </tr>\n",
       "    <tr>\n",
       "      <th>1310</th>\n",
       "      <td>what do you do when the crypto takes a huge di...</td>\n",
       "      <td>2</td>\n",
       "    </tr>\n",
       "    <tr>\n",
       "      <th>2226</th>\n",
       "      <td>btfd   gt  buy the f  king dogecoin</td>\n",
       "      <td>1</td>\n",
       "    </tr>\n",
       "    <tr>\n",
       "      <th>1228</th>\n",
       "      <td>businesswoman  tumblr  twitter  facebook  ins...</td>\n",
       "      <td>0</td>\n",
       "    </tr>\n",
       "    <tr>\n",
       "      <th>579</th>\n",
       "      <td>business  businessgoals  businessgrowth  busi...</td>\n",
       "      <td>1</td>\n",
       "    </tr>\n",
       "    <tr>\n",
       "      <th>...</th>\n",
       "      <td>...</td>\n",
       "      <td>...</td>\n",
       "    </tr>\n",
       "    <tr>\n",
       "      <th>905</th>\n",
       "      <td>not so mr  wonderful says  dogecoin holders di...</td>\n",
       "      <td>2</td>\n",
       "    </tr>\n",
       "    <tr>\n",
       "      <th>5192</th>\n",
       "      <td>this clean energy manufacturing company has a ...</td>\n",
       "      <td>3</td>\n",
       "    </tr>\n",
       "    <tr>\n",
       "      <th>3980</th>\n",
       "      <td>empire there s some things you can t buy wit...</td>\n",
       "      <td>2</td>\n",
       "    </tr>\n",
       "    <tr>\n",
       "      <th>235</th>\n",
       "      <td>saitama shiba i ll have all the ca...</td>\n",
       "      <td>1</td>\n",
       "    </tr>\n",
       "    <tr>\n",
       "      <th>5157</th>\n",
       "      <td>tweet del d a</td>\n",
       "      <td>0</td>\n",
       "    </tr>\n",
       "  </tbody>\n",
       "</table>\n",
       "<p>4547 rows × 2 columns</p>\n",
       "</div>"
      ],
      "text/plain": [
       "                                             clean_text  positive_word_count\n",
       "2253   businessgrowth  tumblr  twitter  facebook  in...                    0\n",
       "1310  what do you do when the crypto takes a huge di...                    2\n",
       "2226             btfd   gt  buy the f  king dogecoin                       1\n",
       "1228   businesswoman  tumblr  twitter  facebook  ins...                    0\n",
       "579    business  businessgoals  businessgrowth  busi...                    1\n",
       "...                                                 ...                  ...\n",
       "905   not so mr  wonderful says  dogecoin holders di...                    2\n",
       "5192  this clean energy manufacturing company has a ...                    3\n",
       "3980    empire there s some things you can t buy wit...                    2\n",
       "235               saitama shiba i ll have all the ca...                    1\n",
       "5157                                    tweet del d a                      0\n",
       "\n",
       "[4547 rows x 2 columns]"
      ]
     },
     "execution_count": 45,
     "metadata": {},
     "output_type": "execute_result"
    }
   ],
   "source": [
    "# Train-test split\n",
    "X_train,X_test,y_train,y_test = train_test_split(df_feat, df_probs['sentiment'],random_state=1)\n",
    "X_train"
   ]
  },
  {
   "cell_type": "code",
   "execution_count": 46,
   "metadata": {},
   "outputs": [],
   "source": [
    "feat, feat_vec_train = get_top_n_gram(X_train['clean_text'], (1,1), 100)\n",
    "feat, feat_vec_test = get_top_n_gram_test(X_test['clean_text'], X_train['clean_text'], (1,1), 100)\n",
    "\n",
    "X_train.reset_index(drop=True, inplace=True)\n",
    "X_test.reset_index(drop=True, inplace=True)\n",
    "\n",
    "X_train_vec = pd.concat([X_train['positive_word_count'], pd.DataFrame(feat_vec_train.todense())], axis=1)\n",
    "X_test_vec = pd.concat([X_test['positive_word_count'], pd.DataFrame(feat_vec_test.todense())], axis=1)"
   ]
  },
  {
   "cell_type": "markdown",
   "metadata": {},
   "source": [
    "## Baseline"
   ]
  },
  {
   "cell_type": "markdown",
   "metadata": {},
   "source": [
    "Our baseline is the average of the majority class, which is 68% neutral/negative. "
   ]
  },
  {
   "cell_type": "code",
   "execution_count": 47,
   "metadata": {},
   "outputs": [
    {
     "data": {
      "text/plain": [
       "0.6927644600835716"
      ]
     },
     "execution_count": 47,
     "metadata": {},
     "output_type": "execute_result"
    }
   ],
   "source": [
    "y_train.value_counts()[0]/y_train.shape[0]"
   ]
  },
  {
   "cell_type": "markdown",
   "metadata": {},
   "source": [
    "## The Model"
   ]
  },
  {
   "cell_type": "code",
   "execution_count": 40,
   "metadata": {},
   "outputs": [
    {
     "name": "stdout",
     "output_type": "stream",
     "text": [
      "[0.78901099 0.7967033  0.78767877 0.7909791  0.75137514]\n",
      "predictions\n",
      "0.0    1013\n",
      "1.0     503\n",
      "dtype: int64\n",
      "Accuracy Score: 0.7889182058047494\n"
     ]
    }
   ],
   "source": [
    "# Naive Bayes\n",
    "nb = MultinomialNB()\n",
    "nb.fit(X_train_vec,y_train)\n",
    "\n",
    "#Cross-Validation\n",
    "from sklearn.model_selection import cross_val_score\n",
    "print(cross_val_score(nb, X_train_vec, y_train))\n",
    "\n",
    "# Predictions\n",
    "y_preds = nb.predict(X_test_vec)\n",
    "df_fin = pd.DataFrame()\n",
    "df_fin['predictions'] = y_preds\n",
    "print(df_fin.value_counts('predictions'))\n",
    "\n",
    "# Metric on Test Score\n",
    "print('Accuracy Score:',accuracy_score(y_test,df_fin['predictions']))"
   ]
  },
  {
   "cell_type": "code",
   "execution_count": 48,
   "metadata": {},
   "outputs": [
    {
     "data": {
      "image/png": "[encoded data removed]",
      "text/plain": [
       "<Figure size 432x288 with 2 Axes>"
      ]
     },
     "metadata": {
      "needs_background": "light"
     },
     "output_type": "display_data"
    }
   ],
   "source": [
    "from sklearn.metrics import plot_confusion_matrix\n",
    "plot_confusion_matrix(nb, X_test_vec, y_test)\n",
    "plt.show()"
   ]
  },
  {
   "cell_type": "markdown",
   "metadata": {},
   "source": [
    "# Recommendations"
   ]
  },
  {
   "cell_type": "markdown",
   "metadata": {},
   "source": [
    "We recommend using these words and phrases. \n",
    "\n",
    "They mean this. "
   ]
  },
  {
   "cell_type": "markdown",
   "metadata": {},
   "source": [
    "# Future Research"
   ]
  },
  {
   "cell_type": "markdown",
   "metadata": {},
   "source": [
    "Going forward, we would love to offer sentiment analysis over time, along with the quantity of tweets at any given time, to predict price changes. \n",
    "\n",
    "We also would love to anaylze different excahnges. for example, reddit's wall street bets often trades in Robinhood. So doing a comparative sentiment analysis might help with arbitrage of dogecoin or between other currencies. "
   ]
  }
 ],
 "metadata": {
  "interpreter": {
   "hash": "7a3d059f376a9d0551670ac739dcc834dd342b8d7d90019c6bdbef463e084516"
  },
  "kernelspec": {
   "display_name": "Python 3.8.5 64-bit ('learn-env': conda)",
   "name": "python3"
  },
  "language_info": {
   "codemirror_mode": {
    "name": "ipython",
    "version": 3
   },
   "file_extension": ".py",
   "mimetype": "text/x-python",
   "name": "python",
   "nbconvert_exporter": "python",
   "pygments_lexer": "ipython3",
   "version": "3.8.5"
  },
  "orig_nbformat": 4
 },
 "nbformat": 4,
 "nbformat_minor": 2
}
